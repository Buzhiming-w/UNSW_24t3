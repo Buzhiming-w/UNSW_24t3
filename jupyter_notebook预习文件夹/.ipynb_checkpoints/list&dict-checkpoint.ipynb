{
 "cells": [
  {
   "cell_type": "code",
   "execution_count": null,
   "id": "d3844aae-5cd1-4648-9e77-2de31bb5d21a",
   "metadata": {},
   "outputs": [],
   "source": [
    " print('hello world')"
   ]
  },
  {
   "cell_type": "code",
   "execution_count": null,
   "id": "fafdc5d3-7e89-4378-aaf1-f155d10f1103",
   "metadata": {},
   "outputs": [],
   "source": [
    "from urllib.request import urlopen\n",
    "\n",
    "url = 'http://hq.sinajs.cn/list=sh600000' #爬取股票数据\n",
    "\n",
    "request = urlopen(url)\n",
    "content = request.read()\n",
    "# content = content.decode('gbk')\n",
    "\n",
    "print(content)"
   ]
  },
  {
   "cell_type": "code",
   "execution_count": 12,
   "id": "21bd7151-714c-4fb3-8898-7b7caba6e6ae",
   "metadata": {},
   "outputs": [
    {
     "name": "stdout",
     "output_type": "stream",
     "text": [
      "1 2\n"
     ]
    }
   ],
   "source": [
    "print(1, 2)"
   ]
  },
  {
   "cell_type": "code",
   "execution_count": 14,
   "id": "64fe8a1d-f028-49b0-a898-2873c3ff6ee3",
   "metadata": {},
   "outputs": [
    {
     "name": "stdout",
     "output_type": "stream",
     "text": [
      "10.28 <class 'float'>\n"
     ]
    }
   ],
   "source": [
    "stock_price = 10.28\n",
    "print(stock_price, type(stock_price))\n"
   ]
  },
  {
   "cell_type": "code",
   "execution_count": 16,
   "id": "0e4d7703-1328-4921-8714-1a58c837fb01",
   "metadata": {},
   "outputs": [
    {
     "name": "stdout",
     "output_type": "stream",
     "text": [
      "233000000000.0 <class 'float'>\n"
     ]
    }
   ],
   "source": [
    "market_capital = 2.33E11\n",
    "print(market_capital, type(market_capital))"
   ]
  },
  {
   "cell_type": "code",
   "execution_count": 17,
   "id": "e26a2cbc-ec6c-4605-9f12-c3c0fdd7abef",
   "metadata": {},
   "outputs": [
    {
     "name": "stdout",
     "output_type": "stream",
     "text": [
      "True <class 'bool'>\n",
      "None <class 'NoneType'>\n"
     ]
    }
   ],
   "source": [
    "print(True, type(True))\n",
    "print(None, type(None))"
   ]
  },
  {
   "cell_type": "code",
   "execution_count": 18,
   "id": "54af3c49-897d-4341-912a-4ceca0a67570",
   "metadata": {},
   "outputs": [
    {
     "name": "stdout",
     "output_type": "stream",
     "text": [
      "9\n"
     ]
    }
   ],
   "source": [
    "print(9%13)"
   ]
  },
  {
   "cell_type": "code",
   "execution_count": 20,
   "id": "5b3a6c15-a15a-4ce4-8496-831b011c2dc8",
   "metadata": {},
   "outputs": [
    {
     "name": "stdout",
     "output_type": "stream",
     "text": [
      "6561\n"
     ]
    }
   ],
   "source": [
    "print(3**8)"
   ]
  },
  {
   "cell_type": "code",
   "execution_count": 26,
   "id": "d552b789-2f83-430a-a161-0ca68c0a7049",
   "metadata": {},
   "outputs": [
    {
     "name": "stdout",
     "output_type": "stream",
     "text": [
      "九\n",
      "[1, '2', 3, 4.0]\n",
      "[4.0, 5, 6, 'seven', [8], '九']\n",
      "[1, 4.0, 'seven']\n"
     ]
    }
   ],
   "source": [
    "list_var = [1, '2', 3, 4.0, 5, 6,'seven', [8], '九'] #list举例\n",
    "print(list_var[-1])\n",
    "print(list_var[:4])\n",
    "print(list_var[3:])\n",
    "print(list_var[0:7:3])  #list[a:b:c],在list[a:b]中每c个元素选取其中的第一个"
   ]
  },
  {
   "cell_type": "code",
   "execution_count": 27,
   "id": "e18807c7-c5c2-4d67-96da-518cd0017f62",
   "metadata": {},
   "outputs": [
    {
     "name": "stdout",
     "output_type": "stream",
     "text": [
      "True\n",
      "False\n"
     ]
    }
   ],
   "source": [
    "\n",
    "# =====list常见操作：判断一个元素是否在list当中\n",
    "list_var = [1, '2', 3, 4.0, 5]\n",
    "print(1 in list_var)  # 判断1元素，是否在list_var中出现\n",
    "print(100 in list_var)  # 判断100元素，是否在list_var中出现\n"
   ]
  },
  {
   "cell_type": "code",
   "execution_count": 29,
   "id": "918eae5d-ff27-47f7-97f7-b99744cd561d",
   "metadata": {},
   "outputs": [
    {
     "name": "stdout",
     "output_type": "stream",
     "text": [
      "[2, 3, 4, 5]\n"
     ]
    }
   ],
   "source": [
    "list_var = [1, 2, 3, 4, 5]\n",
    "del list_var[0]  # 删除位置0的那个元素\n",
    "print(list_var)"
   ]
  },
  {
   "cell_type": "markdown",
   "id": "b57d5774-d332-4ebf-aac5-c06f7926b559",
   "metadata": {},
   "source": [
    "# 查找元素"
   ]
  },
  {
   "cell_type": "code",
   "execution_count": 32,
   "id": "7a05c9bf-c3a1-4e70-aa0c-798d8242c107",
   "metadata": {},
   "outputs": [
    {
     "name": "stdout",
     "output_type": "stream",
     "text": [
      "1\n"
     ]
    }
   ],
   "source": [
    "list_var = [3, 5, 1, 2, 4]\n",
    "print(list_var.index(5))"
   ]
  },
  {
   "cell_type": "markdown",
   "id": "92f76172-b34c-435b-a7bf-880f6dbab16c",
   "metadata": {},
   "source": [
    "# 注意区分append与extend的区别"
   ]
  },
  {
   "cell_type": "code",
   "execution_count": 33,
   "id": "de006e8f-f20b-42cd-badb-7d88d547302c",
   "metadata": {},
   "outputs": [
    {
     "name": "stdout",
     "output_type": "stream",
     "text": [
      "[1, '2', 3, 4.0, 5, 6]\n",
      "[1, '2', 3, 4.0, 5, 6, ['seven', [8], '九']]\n",
      "[1, '2', 3, 4.0, 5, 6, 'seven', [8], '九']\n"
     ]
    }
   ],
   "source": [
    "list_var = [1, '2', 3, 4.0, 5]\n",
    "list_var.append(6)\n",
    "print(list_var)\n",
    "list_var.append(['seven', [8], '九'])\n",
    "print(list_var)\n",
    "\n",
    "list_var = [1, '2', 3, 4.0, 5]\n",
    "list_var.extend([6, 'seven', [8], '九'])\n",
    "print(list_var)\n"
   ]
  },
  {
   "cell_type": "code",
   "execution_count": 35,
   "id": "f97c2da4-c3b9-4f99-ae1e-50c6e83b69fa",
   "metadata": {},
   "outputs": [
    {
     "name": "stdout",
     "output_type": "stream",
     "text": [
      "[4, 2, 1, 5, 3]\n",
      "[1, 2, 3, 4, 5]\n",
      "[5, 4, 3, 2, 1]\n",
      "[1, 2, 3, 4, 5]\n",
      "[3, 5, 1, 2, 4]\n"
     ]
    }
   ],
   "source": [
    "# =====list常见操作：逆序、排序、\n",
    "list_var = [3, 5, 1, 2, 4]\n",
    "list_var.reverse()\n",
    "print(list_var)\n",
    "list_var = [3, 5, 1, 2, 4]\n",
    "list_var.sort()\n",
    "print(list_var)\n",
    "list_var = [3, 5, 1, 2, 4]\n",
    "list_var.sort(reverse = True)\n",
    "print(list_var)\n",
    "list_var = [3, 5, 1, 2, 4]\n",
    "print(sorted(list_var))\n",
    "print(list_var)\n",
    "\n",
    "\n",
    "# sorted方法不会改变原先变量的值，而.sort可能会改变原先的变量的值"
   ]
  },
  {
   "cell_type": "markdown",
   "id": "3186fbb7-c54e-4a33-94d3-57a3a6041be3",
   "metadata": {},
   "source": [
    "# 字典"
   ]
  },
  {
   "cell_type": "code",
   "execution_count": 3,
   "id": "7a2f30f8-b50a-4a22-a0ca-444f84b5f814",
   "metadata": {},
   "outputs": [
    {
     "name": "stdout",
     "output_type": "stream",
     "text": [
      "None\n"
     ]
    }
   ],
   "source": [
    "dict_var = {\n",
    "    'sh000001': '上证指数',\n",
    "    'sz000001': '平安银行',\n",
    "    'sh600000': '浦发银行'\n",
    "}\n",
    "\n",
    "# print(dict_var['sz000001'])  # 获取'sh000001'这个key对应的名称\n",
    "print(dict_var.get('sh600004'))  # 效果同上"
   ]
  },
  {
   "cell_type": "code",
   "execution_count": 4,
   "id": "fd4eaa0b-8951-44a8-ad18-72798ef55774",
   "metadata": {},
   "outputs": [
    {
     "name": "stdout",
     "output_type": "stream",
     "text": [
      "{'sh000001': '上证指数', 'sz000001': '平安银行2019', 'sh600000': '浦发银行'}\n"
     ]
    }
   ],
   "source": [
    "# 具有一系列成对的对象。一个叫做key，一个叫做value。其中的元素(包括key和value)不需要是同类型\n",
    "dict_var = {\n",
    "    'sh000001': '上证指数',\n",
    "    'sz000001': '平安银行',\n",
    "    'sz000001': '平安银行2019',\n",
    "    'sh600000': '浦发银行'\n",
    "}\n",
    "print(dict_var)"
   ]
  },
  {
   "cell_type": "markdown",
   "id": "b09eb5cd-40a1-42ce-91e6-058be4dafa7b",
   "metadata": {},
   "source": [
    "# dict增删改"
   ]
  },
  {
   "cell_type": "code",
   "execution_count": 6,
   "id": "d834cce8-84f1-4737-865e-9814a41ddbd2",
   "metadata": {},
   "outputs": [
    {
     "name": "stdout",
     "output_type": "stream",
     "text": [
      "{'sh000001': '上证指数', 'sz000001': '平安银行', '600000': '浦发银行', 'sh600000': '浦发银行'}\n",
      "{'sh000001': '上证指数', 'sz000001': '平安银行', '600000': '浦发银行', 'sh600000': '浦发银行', 'sh600004': '白云机场'}\n",
      "白云\n",
      "{'sh000001': '上证指数666', 'sz000001': '平安银行999', '600000': '浦发银行', 'sh600000': '浦发银行', 'sh600004': '白云'}\n"
     ]
    }
   ],
   "source": [
    "dict_var = {\n",
    "    'sh000001': '上证指数',\n",
    "    'sz000001': '平安银行',\n",
    "    '600000': '浦发银行',\n",
    "    'sh600000': '浦发银行'\n",
    "}\n",
    "print(dict_var)  # 先看一下\n",
    "\n",
    "dict_var['sh600004'] = '白云机场'\n",
    "print(dict_var)\n",
    "dict_var['sh600004'] = '白云'\n",
    "print(dict_var['sh600004'])\n",
    "\n",
    "dict_var['sh000001'] = '上证指数666'\n",
    "dict_var['sz000001'] = '平安银行999'\n",
    "print(dict_var)  # 看一下更新后的"
   ]
  },
  {
   "cell_type": "markdown",
   "id": "243d4e91-801a-46bd-b604-5edd729cf772",
   "metadata": {},
   "source": [
    "判断一个key是否在dict里面"
   ]
  },
  {
   "cell_type": "code",
   "execution_count": 7,
   "id": "70432cd3-0559-44c9-9d22-f1481077fb3e",
   "metadata": {},
   "outputs": [
    {
     "name": "stdout",
     "output_type": "stream",
     "text": [
      "True\n",
      "False\n",
      "dict_keys(['sh000001', 'sz000001', '600000', 'sh600000'])\n",
      "dict_values(['上证指数', '平安银行', '浦发银行', '浦发银行'])\n"
     ]
    }
   ],
   "source": [
    "# =====dict常见操作：判断一个key是不是在dict里面\n",
    "dict_var = {\n",
    "    'sh000001': '上证指数',\n",
    "    'sz000001': '平安银行',\n",
    "    '600000': '浦发银行',\n",
    "    'sh600000': '浦发银行'\n",
    "}\n",
    "print('sh600000' in dict_var)\n",
    "print('sh600352' in dict_var)\n",
    "\n",
    "\n",
    "# =====dict常见操作：输出一个dict中所有的key和value\n",
    "print(dict_var.keys())  # 输出所有的key\n",
    "print(dict_var.values())  # 输出所有的value"
   ]
  }
 ],
 "metadata": {
  "kernelspec": {
   "display_name": "Python 3 (ipykernel)",
   "language": "python",
   "name": "python3"
  },
  "language_info": {
   "codemirror_mode": {
    "name": "ipython",
    "version": 3
   },
   "file_extension": ".py",
   "mimetype": "text/x-python",
   "name": "python",
   "nbconvert_exporter": "python",
   "pygments_lexer": "ipython3",
   "version": "3.12.4"
  }
 },
 "nbformat": 4,
 "nbformat_minor": 5
}
