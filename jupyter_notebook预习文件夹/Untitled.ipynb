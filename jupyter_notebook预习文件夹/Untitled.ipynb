{
 "cells": [
  {
   "cell_type": "code",
   "execution_count": 1,
   "id": "ccac7d32-7492-498e-b85b-5599be757b94",
   "metadata": {},
   "outputs": [
    {
     "name": "stdout",
     "output_type": "stream",
     "text": [
      "This program calculates the future value of a 10-year investment, adjusted for inflation.\n"
     ]
    },
    {
     "name": "stdin",
     "output_type": "stream",
     "text": [
      "Enter the initial principal:  10000\n",
      "Enter the annualized interest rate (as a decimal):  0.03\n",
      "Enter the annual inflation rate (as a decimal):  0.02\n"
     ]
    },
    {
     "name": "stdout",
     "output_type": "stream",
     "text": [
      "The amount in 10 years, adjusted for inflation, is: 11024.79516969325\n"
     ]
    }
   ],
   "source": [
    "# futval_inflation.py\n",
    "# A program to compute the value of an investment carried 10 years into the future\n",
    "# and adjust for inflation to calculate the actual purchasing power.\n",
    "\n",
    "def main():\n",
    "    print(\"This program calculates the future value of a 10-year investment, adjusted for inflation.\")\n",
    "    \n",
    "    # Getting inputs from the user\n",
    "    principal = float(input(\"Enter the initial principal: \"))\n",
    "    apr = float(input(\"Enter the annualized interest rate (as a decimal): \"))\n",
    "    inflation_rate = float(input(\"Enter the annual inflation rate (as a decimal): \"))\n",
    "    \n",
    "    # Loop to compute the investment value over 10 years\n",
    "    for i in range(10):\n",
    "        principal = principal * (1 + apr)\n",
    "        principal = principal / (1 + inflation_rate)\n",
    "    \n",
    "    # Display the result\n",
    "    print(\"The amount in 10 years, adjusted for inflation, is:\", principal)\n",
    "\n",
    "# Call the main function to execute the program\n",
    "main()\n"
   ]
  },
  {
   "cell_type": "code",
   "execution_count": 2,
   "id": "6899a122-f62f-484f-85b4-cfe8893e2144",
   "metadata": {},
   "outputs": [
    {
     "name": "stdout",
     "output_type": "stream",
     "text": [
      "100% "
     ]
    }
   ],
   "source": [
    "import time\n",
    "\n",
    "for i in range(101):\n",
    "    print(\"\\r{:3}%\".format(i),end=' ')\n",
    "    time.sleep(0.05)"
   ]
  }
 ],
 "metadata": {
  "kernelspec": {
   "display_name": "Python 3 (ipykernel)",
   "language": "python",
   "name": "python3"
  },
  "language_info": {
   "codemirror_mode": {
    "name": "ipython",
    "version": 3
   },
   "file_extension": ".py",
   "mimetype": "text/x-python",
   "name": "python",
   "nbconvert_exporter": "python",
   "pygments_lexer": "ipython3",
   "version": "3.12.4"
  }
 },
 "nbformat": 4,
 "nbformat_minor": 5
}
