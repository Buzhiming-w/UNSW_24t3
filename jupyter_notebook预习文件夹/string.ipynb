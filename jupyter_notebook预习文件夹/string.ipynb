{
 "cells": [
  {
   "cell_type": "markdown",
   "id": "fcdeaade-c045-44fd-929a-e64ca199d599",
   "metadata": {},
   "source": [
    "# 字符"
   ]
  },
  {
   "cell_type": "markdown",
   "id": "f9e0eecc-c4b2-4e34-8ad6-ff2541a79757",
   "metadata": {},
   "source": [
    "## 字符串转义符"
   ]
  },
  {
   "cell_type": "code",
   "execution_count": 8,
   "id": "1ddae1a1-8e82-42c5-8dcc-de9cb53f2624",
   "metadata": {},
   "outputs": [
    {
     "name": "stdout",
     "output_type": "stream",
     "text": [
      "what's up\t\n",
      "\\\n",
      "what\\'s up\n"
     ]
    }
   ],
   "source": [
    "# =====字符串转义，特殊字符的表达\n",
    "# print('what is up')  # 如何输入what's up\n",
    "print('what\\'s up\\t')  # 使用\\对特殊字符进行转义。转义也可以用于表达不可见字符，例如tab符号：\\t。\n",
    "print('\\\\')  # 如果要表达\\本身，也需要转义，写为\\\\。\n",
    "print(r'what\\'s up')  # 在字符串的开始加r（ Raw String），使得字符串中不发生转义。"
   ]
  },
  {
   "cell_type": "code",
   "execution_count": 9,
   "id": "01fa6fda-0b1c-4238-b6eb-d6692a65d028",
   "metadata": {},
   "outputs": [
    {
     "name": "stdout",
     "output_type": "stream",
     "text": [
      "abcdef\n",
      "abcabcabc\n",
      "******************************\n"
     ]
    }
   ],
   "source": [
    "# =====字符串常见操作：字符串相加，相乘\n",
    "str1 = 'abc'\n",
    "str2 = 'def'\n",
    "print(str1 + str2)  # 字符串可以直接相加\n",
    "print(str1 * 3)  # 字符串可以乘以整数\n",
    "print('*' * 30)\n"
   ]
  },
  {
   "cell_type": "code",
   "execution_count": 10,
   "id": "a83ee20f-17ae-41a1-ae91-46625737e7ba",
   "metadata": {},
   "outputs": [
    {
     "name": "stdout",
     "output_type": "stream",
     "text": [
      "abcdef\n",
      "abcabcabc\n",
      "******************************\n",
      "True\n",
      "False\n"
     ]
    }
   ],
   "source": [
    "# =====字符串常见操作：字符串相加，相乘\n",
    "str1 = 'abc'\n",
    "str2 = 'def'\n",
    "print(str1 + str2)  # 字符串可以直接相加\n",
    "print(str1 * 3)  # 字符串可以乘以整数\n",
    "print('*' * 30)\n",
    "\n",
    "\n",
    "# =====字符串常见操作：startswith、endswith\n",
    "# stock_code = 'sh600000'\n",
    "# print(stock_code.startswith('sh'))  # 判断字符串是否是以'sh'开头\n",
    "# print(stock_code.startswith('s'))\n",
    "# print(stock_code.startswith('01'))\n",
    "# print(stock_code.endswith('0000'))\n",
    "\n",
    "\n",
    "# =====字符串常见操作：判断\n",
    "name = '邢不行'\n",
    "print('不' in name)  # 判断字符串中是否包含'邢'\n",
    "print('x' in name)\n"
   ]
  },
  {
   "cell_type": "code",
   "execution_count": 11,
   "id": "03a50143-fe96-4bdd-8d8c-3376ad5b5de0",
   "metadata": {},
   "outputs": [
    {
     "name": "stdout",
     "output_type": "stream",
     "text": [
      "sz000001\n",
      "西蒙斯, 西蒙斯量化\n"
     ]
    }
   ],
   "source": [
    "# =====字符串常见操作：替换\n",
    "stock_code = 'sh000001'\n",
    "# stock_code.replace('被替换的值', '替换成的值')\n",
    "print(stock_code.replace('sh', 'sz'))  # 于是变成了平安银行\n",
    "print('邢不行, 邢不行量化'.replace('邢不行', '西蒙斯'))  # 会替换所有的"
   ]
  },
  {
   "cell_type": "markdown",
   "id": "0a1100c0-6591-4804-97f2-dcdbefdce8aa",
   "metadata": {},
   "source": [
    "## 字符串常见操作：split，返回列表"
   ]
  },
  {
   "cell_type": "code",
   "execution_count": 12,
   "id": "2ba4904c-5ab2-4e24-bec5-2c69fd9b0379",
   "metadata": {},
   "outputs": [
    {
     "name": "stdout",
     "output_type": "stream",
     "text": [
      "['sh600000', 'sz000001', 'sh600004'] <class 'list'>\n",
      "sh600000\n",
      "['sh600000, sz000001, ', '']\n",
      "['邢', '不', '行', '量', '化', '课', '程']\n",
      "邢不行量化课程\n"
     ]
    }
   ],
   "source": [
    "info = 'sh600000, sz000001, sh600004'\n",
    "print(info.split(', '), type(info.split(', ')))\n",
    "print(info.split(', ')[0])\n",
    "print(info.split('sh600004'))\n",
    "# 逆操作\n",
    "list_var = ['邢', '不', '行', '量', '化', '课', '程']\n",
    "print(list_var)\n",
    "print(''.join(list_var))  # ''为拼接规则，此处为中间不加入任何字符"
   ]
  },
  {
   "cell_type": "markdown",
   "id": "10aa8cf6-8535-4f08-87cc-2b82cdef5af1",
   "metadata": {},
   "source": [
    "## 字符串常见操作：strip"
   ]
  },
  {
   "cell_type": "code",
   "execution_count": 13,
   "id": "ab3e9f48-7f93-4523-b53b-7d16c278b3e1",
   "metadata": {},
   "outputs": [
    {
     "name": "stdout",
     "output_type": "stream",
     "text": [
      " 188 2019 8888\n",
      "188 2019 8888\n",
      " 188 2019 \n"
     ]
    }
   ],
   "source": [
    "phone = ' 188 2019 8888'\n",
    "print(phone)\n",
    "print(phone.strip())  # 去除两边的空格\n",
    "print(phone.strip('8'))  # 去除两边8，注意这里会保留空格"
   ]
  },
  {
   "cell_type": "markdown",
   "id": "11bcfb6e-3b02-4578-9093-e3db3ccb0f01",
   "metadata": {},
   "source": [
    "## 字符串的选取：把字符串当做list"
   ]
  },
  {
   "cell_type": "code",
   "execution_count": 14,
   "id": "da072749-54b9-43d6-9123-3849a2ca818d",
   "metadata": {},
   "outputs": [
    {
     "name": "stdout",
     "output_type": "stream",
     "text": [
      "邢\n",
      "邢不行\n",
      "量化课程\n",
      "7\n",
      "程\n"
     ]
    }
   ],
   "source": [
    "name = '邢不行量化课程'\n",
    "print(name[0])\n",
    "print(name[:3])\n",
    "print(name[3:])\n",
    "print(len(name))\n",
    "print(name[-1])"
   ]
  }
 ],
 "metadata": {
  "kernelspec": {
   "display_name": "Python 3 (ipykernel)",
   "language": "python",
   "name": "python3"
  },
  "language_info": {
   "codemirror_mode": {
    "name": "ipython",
    "version": 3
   },
   "file_extension": ".py",
   "mimetype": "text/x-python",
   "name": "python",
   "nbconvert_exporter": "python",
   "pygments_lexer": "ipython3",
   "version": "3.12.4"
  }
 },
 "nbformat": 4,
 "nbformat_minor": 5
}
